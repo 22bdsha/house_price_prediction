{
 "cells": [
  {
   "cell_type": "markdown",
   "id": "0ba90022-590a-41b0-802d-41da26a2335e",
   "metadata": {},
   "source": [
    "## Model Usage"
   ]
  },
  {
   "cell_type": "code",
   "execution_count": 1,
   "id": "f3ca4a03-daac-4243-bb86-c2f64e3b835b",
   "metadata": {},
   "outputs": [],
   "source": [
    "from joblib import dump , load\n",
    "import numpy as np\n",
    "model_tr = load('T1.joblib')"
   ]
  },
  {
   "cell_type": "code",
   "execution_count": 2,
   "id": "90c460dc-adb8-4751-9b72-d6073d49ad55",
   "metadata": {},
   "outputs": [
    {
     "name": "stdout",
     "output_type": "stream",
     "text": [
      "The estimated price of house is :  [21.4012853]\n"
     ]
    },
    {
     "name": "stderr",
     "output_type": "stream",
     "text": [
      "C:\\Program Files\\Python312\\Lib\\site-packages\\sklearn\\base.py:493: UserWarning: X does not have valid feature names, but LinearRegression was fitted with feature names\n",
      "  warnings.warn(\n"
     ]
    }
   ],
   "source": [
    "# enter the features to get the price of house\n",
    "\n",
    "input_data = (4.83567,0,18.1,0,0.583,5.905,53.2,3.1523,24,666,20.2,388.22,11.45)\n",
    "features = np.asarray(input_data)\n",
    "res =features.reshape(1, -1)\n",
    "price=model_tr.predict(res)\n",
    "print(\"The estimated price of house is : \" , price)"
   ]
  },
  {
   "cell_type": "code",
   "execution_count": null,
   "id": "ea026f3a-d217-4307-b816-5c741201d80e",
   "metadata": {},
   "outputs": [],
   "source": []
  }
 ],
 "metadata": {
  "kernelspec": {
   "display_name": "Python 3 (ipykernel)",
   "language": "python",
   "name": "python3"
  },
  "language_info": {
   "codemirror_mode": {
    "name": "ipython",
    "version": 3
   },
   "file_extension": ".py",
   "mimetype": "text/x-python",
   "name": "python",
   "nbconvert_exporter": "python",
   "pygments_lexer": "ipython3",
   "version": "3.12.1"
  }
 },
 "nbformat": 4,
 "nbformat_minor": 5
}
